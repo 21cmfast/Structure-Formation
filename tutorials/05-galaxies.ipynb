{
 "cells": [
  {
   "cell_type": "markdown",
   "id": "ed8b00e4",
   "metadata": {},
   "source": [
    "## Populating haloes with galaxies"
   ]
  },
  {
   "cell_type": "code",
   "execution_count": 1,
   "id": "be0f11b8",
   "metadata": {},
   "outputs": [],
   "source": [
    "# science imports\n",
    "import numpy as np\n",
    "import py21cmfast as p21c\n",
    "from astropy import units as u\n",
    "from astropy.constants import c\n",
    "from astropy.cosmology import Planck18, z_at_value"
   ]
  },
  {
   "cell_type": "code",
   "execution_count": 2,
   "id": "9ad07b45",
   "metadata": {},
   "outputs": [],
   "source": [
    "# plotting imports\n",
    "import matplotlib.pyplot as plt\n",
    "rc = {\"font.family\" : \"serif\", \n",
    "    \"mathtext.fontset\" : \"stix\"}\n",
    "plt.rcParams.update(rc)\n",
    "plt.rcParams[\"font.serif\"] = [\"Times New Roman\"] + plt.rcParams[\"font.serif\"]\n",
    "plt.rcParams.update({'font.size': 14})\n",
    "plt.style.use('dark_background')\n",
    "import matplotlib as mpl\n",
    "label_size = 20\n",
    "font_size = 30\n",
    "mpl.rcParams['xtick.labelsize'] = label_size\n",
    "mpl.rcParams['ytick.labelsize'] = label_size"
   ]
  },
  {
   "cell_type": "markdown",
   "id": "dc57d8ab",
   "metadata": {},
   "source": [
    "Set initial conditions, cosmology, and astrophysical parameters."
   ]
  },
  {
   "cell_type": "code",
   "execution_count": 3,
   "id": "923ffa6a",
   "metadata": {},
   "outputs": [],
   "source": [
    "# instantiate a relatively small simulation box\n",
    "inputs = p21c.InputParameters.from_template('latest-dhalos', random_seed=24,).evolve_input_structs(\n",
    "    SAMPLER_MIN_MASS=1e9, BOX_LEN=100, DIM=200, HII_DIM=50, USE_TS_FLUCT=False, INHOMO_RECO=False,\n",
    "    HALOMASS_CORRECTION=1., AVG_BELOW_SAMPLER=True, USE_EXP_FILTER=False, USE_UPPER_STELLAR_TURNOVER=False,\n",
    "    CELL_RECOMB=False, R_BUBBLE_MAX=15.).clone(\n",
    "    node_redshifts=(6,7,8)\n",
    ")\n",
    "\n",
    "# create the initial conditions\n",
    "init_box = p21c.compute_initial_conditions(\n",
    "    inputs=inputs,\n",
    ")"
   ]
  },
  {
   "cell_type": "markdown",
   "id": "f0235045",
   "metadata": {},
   "source": [
    "Generate lists of halos at our node redshifts: $6$, $7$, $8$"
   ]
  },
  {
   "cell_type": "code",
   "execution_count": 4,
   "id": "28f9be2f",
   "metadata": {},
   "outputs": [],
   "source": [
    "# now we scroll through each redshift in descending order and generate halo lists\n",
    "halo_lists = []\n",
    "descendant_halos = None\n",
    "for z in inputs.node_redshifts[::-1]:\n",
    "    # generate the halo field\n",
    "    halo_list = p21c.determine_halo_list(\n",
    "        redshift=z,\n",
    "        initial_conditions=init_box,\n",
    "        inputs=inputs,\n",
    "        descendant_halos=descendant_halos\n",
    "    )\n",
    "    descendant_halos = halo_list\n",
    "    halo_lists.append(halo_list)"
   ]
  },
  {
   "cell_type": "markdown",
   "id": "6fac058c",
   "metadata": {},
   "source": [
    "Each halo list contains the halos *coordinates*, *masses*, *stellar masses*, and *star formation rates*.\n",
    "\n",
    "The latter two properties are encoded in random numbers `star_rng` and `sfr_rng`, which we must pass through a decoder function in order to compute the corresponding physical quantities. Each of these numbers quantifies how far removed a halo's property is from the mean. \n",
    "\n",
    "Many studies of high-redshift galaxies do not account for stochasticity in the stellar mass-to-halo mass relation, which can lead to significant problems (see Nikolic et al. 2024 https://arxiv.org/abs/2406.15237).\n",
    "\n",
    "To better understand this, let us investigate the impact of stochasticity on the UV luminosity function by computing this quantity first with a fixed relation, and then using the scatter considered in `21cmFAST`."
   ]
  },
  {
   "cell_type": "code",
   "execution_count": 5,
   "id": "d5aa8163",
   "metadata": {},
   "outputs": [],
   "source": [
    "def get_stellar_mass(halo_masses, stellar_rng):\n",
    "    sigma_star =  inputs.astro_params.SIGMA_STAR\n",
    "    mp1 = 1e10\n",
    "    mp2 = 10**(inputs.astro_params.UPPER_STELLAR_TURNOVER_MASS)\n",
    "    m_turn = 10**(inputs.astro_params.M_TURN)\n",
    "    a_star = inputs.astro_params.ALPHA_STAR\n",
    "    a_star2 = inputs.astro_params.UPPER_STELLAR_TURNOVER_INDEX\n",
    "    f_star10 = 10**inputs.astro_params.F_STAR10\n",
    "    omega_b = inputs.cosmo_params.OMb\n",
    "    omega_m = inputs.cosmo_params.OMm\n",
    "    baryon_frac = omega_b/omega_m\n",
    "    \n",
    "    high_mass_turnover = ((mp2/mp1)**a_star + (mp2/mp1)**a_star2)/((halo_masses/mp2)**(-1*a_star)+(halo_masses/mp2)**(-1*a_star2))\n",
    "    stoc_adjustment_term = 0.5*sigma_star**2\n",
    "    low_mass_turnover = np.exp(-1*m_turn/halo_masses + stellar_rng*sigma_star - stoc_adjustment_term)\n",
    "    stellar_mass = f_star10 * baryon_frac * halo_masses * (high_mass_turnover * low_mass_turnover)\n",
    "    return stellar_mass\n",
    "\n",
    "def get_sfr(stellar_mass, sfr_rng, z):\n",
    "    sigma_sfr_lim = inputs.astro_params.SIGMA_SFR_LIM\n",
    "    sigma_sfr_idx = inputs.astro_params.SIGMA_SFR_INDEX\n",
    "    t_h = 1/Planck18.H(z).to('s**-1').value\n",
    "    t_star = inputs.astro_params.t_STAR\n",
    "    sfr_mean = stellar_mass / (t_star * t_h)\n",
    "    sigma_sfr = sigma_sfr_idx * np.log10(stellar_mass/1e10) + sigma_sfr_lim\n",
    "    sigma_sfr[sigma_sfr < sigma_sfr_lim] = sigma_sfr_lim\n",
    "    stoc_adjustment_term = sigma_sfr * sigma_sfr / 2. # adjustment to the mean for lognormal scatter\n",
    "    sfr_sample = sfr_mean * np.exp(sfr_rng*sigma_sfr - stoc_adjustment_term)\n",
    "    return sfr_sample"
   ]
  },
  {
   "cell_type": "code",
   "execution_count": 6,
   "id": "a1c9e204",
   "metadata": {},
   "outputs": [],
   "source": [
    "halo_masses_list        = []\n",
    "stellar_masses_stoch    = []\n",
    "sfr_stoch               = []\n",
    "stellar_masses_no_stoch = []\n",
    "sfr_no_stoch            = []\n",
    "\n",
    "for halo_list in halo_lists:\n",
    "    # get the halo masses\n",
    "    halo_masses = halo_list.get('halo_masses')\n",
    "    # get the stellar masses and star formation rates\n",
    "    star_rng = halo_list.get('star_rng')\n",
    "    sfrs = halo_list.get('sfr_rng')\n",
    "\n",
    "    # purge zero values\n",
    "    star_rng = star_rng[halo_masses > 0]\n",
    "    sfrs = sfrs[halo_masses > 0]\n",
    "    halo_masses = halo_masses[halo_masses > 0]\n",
    "\n",
    "    sm_stoch = get_stellar_mass(halo_masses, star_rng)\n",
    "    sf_stoch = get_stellar_mass(halo_masses, sfrs)\n",
    "    sm_no_stoch = get_stellar_mass(halo_masses, np.zeros_like(halo_masses))\n",
    "    sf_no_stoch = get_stellar_mass(halo_masses, np.zeros_like(halo_masses))\n",
    "    \n",
    "    # append to the lists\n",
    "    stellar_masses_stoch    += [sm_stoch]\n",
    "    sfr_stoch                += [sf_stoch]\n",
    "    stellar_masses_no_stoch += [sm_no_stoch]\n",
    "    sfr_no_stoch             += [sf_no_stoch]\n",
    "    halo_masses_list        += [halo_masses]"
   ]
  },
  {
   "cell_type": "code",
   "execution_count": null,
   "id": "2bed8f78",
   "metadata": {},
   "outputs": [
    {
     "data": {
      "text/plain": [
       "[<matplotlib.lines.Line2D at 0x7f79ab5c1590>]"
      ]
     },
     "execution_count": 9,
     "metadata": {},
     "output_type": "execute_result"
    }
   ],
   "source": [
    "# visualize stochasticity in each relationship\n",
    "fig, axs = plt.subplots(2, 3, figsize=(12, 8), sharex=True, sharey=True)\n",
    "\n",
    "axs[0,0].plot(np.log10(halo_masses_list[0]), np.log10(stellar_masses_stoch[0]), 'o', color='cyan', markersize=1, alpha=0.5, label='Stochastic')\n",
    "axs[0,0].plot(np.log10(halo_masses_list[0]), np.log10(stellar_masses_no_stoch[0]), 'o', color='red', markersize=1, alpha=0.5, label='Stochastic')"
   ]
  },
  {
   "cell_type": "code",
   "execution_count": null,
   "id": "e7b8716c",
   "metadata": {},
   "outputs": [],
   "source": []
  }
 ],
 "metadata": {
  "kernelspec": {
   "display_name": "21cmfast",
   "language": "python",
   "name": "python3"
  },
  "language_info": {
   "codemirror_mode": {
    "name": "ipython",
    "version": 3
   },
   "file_extension": ".py",
   "mimetype": "text/x-python",
   "name": "python",
   "nbconvert_exporter": "python",
   "pygments_lexer": "ipython3",
   "version": "3.13.3"
  }
 },
 "nbformat": 4,
 "nbformat_minor": 5
}
