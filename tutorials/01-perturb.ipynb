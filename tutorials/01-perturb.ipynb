{
 "cells": [
  {
   "cell_type": "markdown",
   "id": "0e8b3a49",
   "metadata": {},
   "source": [
    "### Evolving the matter field\n",
    "***\n",
    "In this tutorial we will learn how to evolve the initial conditions using both Eularian and Lagrangian perturbation theory.\n",
    "\n",
    "We will use the functionality of `21cmFAST` that is discribed in detail here\n",
    "[https://21cmfast.readthedocs.io/en/latest/tutorials/coeval_cubes.html](https://21cmfast.readthedocs.io/en/latest/tutorials/coeval_cubes.html)\n",
    "and take advantage of some plotting analysis routines in the `tuesday` package described here\n",
    "[https://tuesday-eor.readthedocs.io/en/latest/reference/index.html](https://tuesday-eor.readthedocs.io/en/latest/reference/index.html)"
   ]
  },
  {
   "cell_type": "markdown",
   "id": "84d42540",
   "metadata": {},
   "source": [
    "### Begin initialization"
   ]
  },
  {
   "cell_type": "code",
   "execution_count": null,
   "id": "0b24187e",
   "metadata": {},
   "outputs": [],
   "source": [
    "### This is for google collab or any machine that has not installed 21cmFAST yet\n",
    "!sudo apt-get install libfftw3-dev libgsl-dev\n",
    "%pip install pip --upgrade\n",
    "%pip install 21cmFAST==4.0.0b0 tuesday-eor"
   ]
  },
  {
   "cell_type": "code",
   "execution_count": null,
   "id": "bb3a8e04",
   "metadata": {},
   "outputs": [],
   "source": [
    "# Standard initialization for 21cmFAST tutorials\n",
    "import py21cmfast as p21c\n",
    "import numpy as np  \n",
    "import matplotlib.pyplot as plt\n",
    "from py21cmfast import plotting\n",
    "from py21cmfast.wrapper import cfuncs as cf # C function hooks\n",
    "from astropy import units\n",
    "import astropy.constants as const\n",
    "import astropy.cosmology as cosmo\n",
    "from tempfile import mkdtemp\n",
    "from pathlib import Path\n",
    "import cv2\n",
    "import os\n",
    "import math as m\n",
    "import tuesday.core as tools\n",
    "\n",
    "cache = p21c.OutputCache(\"./Cache\") # Create a temporary directory for the cache\n"
   ]
  },
  {
   "cell_type": "markdown",
   "id": "d7ce2c91",
   "metadata": {},
   "source": [
    "### End initialization\n",
    "***"
   ]
  },
  {
   "cell_type": "markdown",
   "id": "593e5d86",
   "metadata": {},
   "source": [
    "Let us create **initial conditions** (or load from previous tutorial).  Look up `InputParameters.from_template`"
   ]
  },
  {
   "cell_type": "code",
   "execution_count": null,
   "id": "70b6b216",
   "metadata": {},
   "outputs": [],
   "source": [
    "### Create and visualize the initial conditions (standardize this)\n",
    "\n",
    "# set up the global parameters\n",
    "DIM = 600\n",
    "N_THREADS = 2\n",
    "HII_DIM = 200\n",
    "BOX_LEN = 300\n",
    "inputs = p21c.InputParameters.from_template(\n",
    "    \"simple\", random_seed=1234\n",
    ").evolve_input_structs(BOX_LEN=BOX_LEN, DIM=DIM, HII_DIM=HII_DIM, N_THREADS=N_THREADS) #adapt N_THREADS to your machine\n",
    "\n",
    "# make initial conditions (or load them from previous run)\n",
    "initial_conditions = p21c.compute_initial_conditions(inputs=inputs, cache=cache,  regenerate=False, write=True) # set regenerate=True to force a new run"
   ]
  },
  {
   "cell_type": "markdown",
   "id": "5109c431",
   "metadata": {},
   "source": [
    "As we did in the previous lesson, let's use 'plot_coeval_slice' from ['tuesday.core'](https://github.com/21cmfast/tuesday/blob/main/docs/tutorials/computing_and_plotting_power_spectra.ipynb) to visualize a 2D slice of the initial conditions.\n",
    "\n",
    "*Note: the tuesday-eor package would like all quantities to have units explicitly defined. Use [astropy.units](https://docs.astropy.org/en/stable/units/index.html)*"
   ]
  },
  {
   "cell_type": "code",
   "execution_count": null,
   "id": "af14502b",
   "metadata": {},
   "outputs": [],
   "source": [
    "### visualize the initial conditions\n",
    "# plot a 2D slice\n",
    "tools.plot_coeval_slice(initial_conditions.hires_density.value*units.dimensionless_unscaled, \n",
    "                        BOX_LEN * units.Mpc, transform2slice = tools.coeval2slice_z(idx=0), \n",
    "                        title=\"$\\\\delta_m$\", cmap=\"viridis\", vmin=-5, vmax=5)"
   ]
  },
  {
   "cell_type": "markdown",
   "id": "5aeeed49",
   "metadata": {},
   "source": [
    "Now let's try **evolving** the initial conditions using **Eularian linear perturbation theory**.\n",
    "\n",
    "Recall that the output is the **growing mode of the overdensity field linearly-extrapolated to z=0**:\n",
    "\\begin{equation}\n",
    "\\delta_m \\equiv \\rho/\\bar{\\rho}-1.\n",
    "\\end{equation}\n",
    "\n",
    "So the Eularian evolution would just scale ALL modes by the **growth factor**, $D(z)$  \n",
    "\n",
    "You can use the `cf.get_growth_factor(inputs, redshift)` for the growth_factor.<br>\n",
    "Let's look at the following redshifts: `redshifts = [100, 20, 10, 5, 0]', and remember to set the same color bar range using 'vmin' and 'vmax' (e.g. from -5 to 5) so that the different redshift outputs can be compared more easily.\n"
   ]
  },
  {
   "cell_type": "code",
   "execution_count": null,
   "id": "d6f27573",
   "metadata": {},
   "outputs": [],
   "source": [
    "# let us loop over redshifts and update the plots above\n",
    "redshifts = [100, 20, 10, 5, 2, 0]\n",
    "for z in redshifts:\n",
    "    D = cf.get_growth_factor(inputs=inputs, redshift=z) # compute the linear growth factor\n",
    "    tools.plot_coeval_slice(initial_conditions.hires_density.value*D*units.dimensionless_unscaled, \n",
    "                        BOX_LEN * units.Mpc, transform2slice = tools.coeval2slice_z(idx=0), \n",
    "                        title=f\"$\\\\delta_m$ at z={z:.2f} (D(z) = {D:.2f})\",\n",
    "                        cmap=\"viridis\", vmin=-5, vmax=5)"
   ]
  },
  {
   "cell_type": "markdown",
   "id": "854aed86",
   "metadata": {},
   "source": [
    "*Can we see the growth of non-linear structure?  How would you expect the true Universe to evolve?*\n",
    "\n",
    "Eularian perturbation theory (perturbing the overdensity, $\\delta_m$) only changes the contrast independently of the scale.  \n",
    "There is no mass transfer between cells, no cosmic web...\n",
    "\n",
    "Let's get more quantitiative and use the `calculate_ps_coeval` and `plot_pdf` functions in [tuesday](https://tuesday-eor.readthedocs.io/en/latest/reference/index.html) to plot the spherically-averaged power spectra, and histograms computed on the cell size at these redshifts.  You can make a 2 planel plot using `fig, ax = plt.subplots(1, 2, figsize=(16, 6))` for example.\n",
    "\n",
    "To save time, let's use  the lowres ICs density field: \n",
    "`initial_conditions.lowres_density.value`."
   ]
  },
  {
   "cell_type": "code",
   "execution_count": null,
   "id": "b665d6e9",
   "metadata": {},
   "outputs": [],
   "source": [
    "#define the plot format\n",
    "fig, ax = plt.subplots(1, 2, figsize=(16, 6))\n",
    "\n",
    "#loop over redshifts and use indexing to change colors\n",
    "for idx, z in enumerate(redshifts):\n",
    "   D = cf.get_growth_factor(inputs=inputs, redshift=z) # compute the linear growth factor\n",
    "   delta_x = initial_conditions.lowres_density.value*D*units.dimensionless_unscaled\n",
    "   ps1d, ps2d = tools.calculate_ps_coeval(delta_x, \n",
    "      BOX_LEN * units.Mpc, calc_2d=True, calc_1d=True, deltasq=True)\n",
    "   tools.plot_power_spectrum(ps1d, ax=ax[0], color=f\"C{idx}\", legend=z,logx=True, \n",
    "                             logy=True, ylabel='$\\\\Delta^2(k)$')\n",
    "   tools.plot_pdf(delta_x, ax=ax[1], hist_kwargs={'bins':100, 'color': f\"C{idx}\", \n",
    "                  \"histtype\": \"step\", \"range\":(-5, 5), \"density\":True})\n",
    "ax[0].set_title(\"Power Spectrum of $\\\\delta_m$\")\n",
    "ax[1].set_title(\"PDF of $\\\\delta_m$\")\n",
    "ax[1].set_ylabel(\"PDF\")\n",
    "ax[1].legend([f\"z={z}\" for z in redshifts])"
   ]
  },
  {
   "cell_type": "markdown",
   "id": "bd799cc8",
   "metadata": {},
   "source": [
    "*What qualitative behavior do you note?*\n",
    "\n",
    "*Why are some power spectrum bins empty?*\n",
    "\n",
    "*How would you expect these quantities to evolve in the real Universe as structures form (i.e. scales become non-linear)?*\n",
    "\n",
    "***"
   ]
  },
  {
   "cell_type": "markdown",
   "id": "16a26604",
   "metadata": {},
   "source": [
    "Luckily, we can use the powerful **Spherical Collapse Model** to connect the **linear matter overdensity** to **halos**.\n",
    "\n",
    "\n",
    "Let's start by visualizing where are the cells whose overdensities cross the `Spherical Collapse` barrier:\n",
    "\\begin{equation}\n",
    "\\nonumber \\delta_{\\rm crit}(z) = 1.686 / D(z)\n",
    "\\end{equation}\n",
    ", where we followed convensition and defined the critical threshold to be a function of redshift, operating on the z=0 matter field.\n",
    "\n",
    "\n",
    "Let's use the snapshot at z=2 and paint cells in red that have an overdensity greater than the critical value.  use `plot_coval_slice` again, and `scatter` to overplot the marked cells (remember to strech so that the axis are the same)."
   ]
  },
  {
   "cell_type": "code",
   "execution_count": null,
   "id": "05027422",
   "metadata": {},
   "outputs": [],
   "source": [
    "# make the plots above\n",
    "z= 2\n",
    "D = cf.get_growth_factor(inputs=inputs, redshift=z) # compute the linear growth factor\n",
    "ax = tools.plot_coeval_slice(initial_conditions.hires_density.value*D*units.dimensionless_unscaled, \n",
    "                         BOX_LEN * units.Mpc, transform2slice = tools.coeval2slice_z(idx=0), \n",
    "                         title=\"$\\\\delta_m$\", cmap=\"viridis\", vmin=-5, vmax=5)\n",
    "plt.title(f\"$\\\\delta_m$ at z={z:.2f} (linear growth factor = {D:.2f})\")\n",
    "# Let's find the cells that are above the threshold\n",
    "X, Y = np.nonzero(initial_conditions.hires_density.value[:,:,0] > (1.686 / D)) # find the cells that are above the threshold\n",
    "ax.scatter( X*BOX_LEN/DIM, Y*BOX_LEN/DIM, c='r', s=0.01, alpha=0.6) # plot the cells that are above the threshold"
   ]
  },
  {
   "cell_type": "markdown",
   "id": "36beb227",
   "metadata": {},
   "source": [
    "*Compare the red dots to the linear matter field from above...  What do you notice?*"
   ]
  },
  {
   "cell_type": "markdown",
   "id": "af3078b3",
   "metadata": {},
   "source": [
    "***\n",
    "Let's get a little more quantitative, and compute the *collapsed fraction*, defined in class.\n",
    "\n",
    "We will compute it analytically and numerically from our realization of the linear matter field, and compare the two results.\n",
    "\n",
    "Let's start by computing the **Lagrangian mass of a cell**.  This corresponds to our simulation's \"resolution limit\".  Recall that the initial conditions are defined on a grid whose side length is:<br>\n",
    "`BOX_LEN / DIM`\n",
    "\n",
    "*What is the mass corresponding to this cell?*\n",
    "\n",
    "We will use this value later on, so let us call this cell mass **Mmin**\n",
    "\n",
    "*(Note: that the present-day critical density can be obtained from the astropy object `inputs.cosmo_params.cosmo.critical_density0`, and the present-day matter density is found in `inputs.cosmo_params.OMm`*"
   ]
  },
  {
   "cell_type": "code",
   "execution_count": null,
   "id": "9cd873a0",
   "metadata": {},
   "outputs": [],
   "source": [
    "###  Compute the mass in a cell\n",
    "rho_crit = inputs.cosmo_params.cosmo.critical_density0.to(units.Msun/units.Mpc**3)  # in Msun Mpc^-3\n",
    "OMm = inputs.cosmo_params.OMm # matter density parameter\n",
    "cell_len = BOX_LEN / DIM * units.Mpc # size of a cell in Mpc\n",
    "Mmin = rho_crit * OMm * cell_len**3\n",
    "print(f\"Lagrangian mass in a cell = {Mmin:.2e}\")"
   ]
  },
  {
   "cell_type": "markdown",
   "id": "774594bf",
   "metadata": {},
   "source": [
    "Now, using this `Mmin`, compute the Press-Schecture collapse fraction (i.e. using the scale-independent barrier from above) at, say, z=2:\n",
    "\\begin{equation}\n",
    "\\nonumber f_{\\rm coll}(>M_{\\rm min}, z=2) = {\\rm erfc}\\left[ \\frac{\\delta_{\\rm crit}(z)}{\\sqrt{2} \\sigma(M_{\\rm min})} \\right] ~ ,\n",
    "\\end{equation}\n",
    "\n",
    "To obtain the standard deviation of the matter field smoothed on scale $M_{\\rm min}$, you can use the built in 21cmFAST function:<br>\n",
    "`sigma, dsigmasqdm = cf.evaluate_sigma(inputs, masses)`\n",
    "\n",
    "*Note: routines in cfuncs want the unitless mass, so remember to do `masses=Mmin.to(units.Msun).value`*"
   ]
  },
  {
   "cell_type": "code",
   "execution_count": null,
   "id": "f01849a4",
   "metadata": {},
   "outputs": [],
   "source": [
    "# compute the std of the matter field at z=2 on scale of the DIM grid\n",
    "z=2\n",
    "sigma, dsigmasq = cf.evaluate_sigma(inputs=inputs, masses=Mmin.to(units.Msun).value)\n",
    "D = cf.get_growth_factor(inputs=inputs, redshift=z)\n",
    "delta_crit = 1.686 / D\n",
    "f=m.erfc(delta_crit / (m.sqrt(2) * sigma))\n",
    "print(f\"f_coll(M_halo>{Mmin:.0e}, z={z:.2f}) = {f:.2f}\")"
   ]
  },
  {
   "cell_type": "markdown",
   "id": "8908b8f7",
   "metadata": {},
   "source": [
    "Now compute the collapse fraction at z=2 directly from the field in `initial_conditions.hires_density.value`"
   ]
  },
  {
   "cell_type": "code",
   "execution_count": null,
   "id": "fea4e2b6",
   "metadata": {},
   "outputs": [],
   "source": [
    "# compute the fraction of cells with delta > 1.686 and multiply by 2\n",
    "f = 2*np.sum(initial_conditions.hires_density.value > (1.686 / D)) / initial_conditions.hires_density.value.size\n",
    "print(f\"f_coll(M_halo>{Mmin:.0e}, z={z:.2f}) = {f:.2f}\")"
   ]
  },
  {
   "cell_type": "markdown",
   "id": "f3eafd9e",
   "metadata": {},
   "source": [
    "*Does the analytic estimate agree with the one using the linear matter field?*"
   ]
  },
  {
   "cell_type": "markdown",
   "id": "223c0a53",
   "metadata": {},
   "source": [
    "<div class=\"alert alert-block alert-warning\">\n",
    "Why did we need a factor of two when computing the collapsed fraction from the maps?"
   ]
  },
  {
   "cell_type": "markdown",
   "id": "1432d965",
   "metadata": {},
   "source": [
    "The two results above did not agree exactly though...  \n",
    "\n",
    "*Why could that be?*\n",
    "*How could you test your theory?*"
   ]
  },
  {
   "cell_type": "markdown",
   "id": "391e3c35",
   "metadata": {},
   "source": [
    "***\n",
    "\n",
    "Ok, now let us treat the field as particles and perturb their **DISPLACEMENT** (instead of the overdensity that we perturbed using Eularian PT).  This is called **Lagrangian perturbation theory (LPT)**.\n",
    "\n",
    "21cmFAST has a function called `PERTURB_FIELD` that we can use for this purpose.  Let's use `PERTURB_FIELD` to plot the density field at the same redshifts as above."
   ]
  },
  {
   "cell_type": "code",
   "execution_count": null,
   "id": "38dbb625",
   "metadata": {},
   "outputs": [],
   "source": [
    "# loop over redshifts and call perturb_field.  Try saving LPT fields in a dictionary\n",
    "LPT_fields = {}\n",
    "for z in redshifts:\n",
    "    perturbed_field = p21c.perturb_field(redshift=z, initial_conditions=initial_conditions)\n",
    "    #plt.imshow(perturbed_field.density.value[:,:,0], vmin=-5, vmax=5) # plot 2D slice; to be replaced\n",
    "    plotting.coeval_sliceplot(perturbed_field, \"density\", cbar_label='$\\\\delta_m$', cmap=\"viridis\", vmin=-5, vmax=5);\n",
    "    plt.title(f\"$\\\\delta_m$ at z={z:.2f}\")\n",
    "    plt.show()\n",
    "    LPT_fields[z] = perturbed_field # store the LPT fields in a dictionary\n",
    "   "
   ]
  },
  {
   "cell_type": "markdown",
   "id": "abe16a96",
   "metadata": {},
   "source": [
    "*How does Lagrangian PT theory compare with Eularian?  Do you see a \"web\"? \"voids\"?*\n",
    "\n",
    "*Note that in oder to define a matter overdensity, we used our high resolution `DIM` grid as \"particles\", moved them, and then re-bined them to a lower resolution `HII_DIM` grid. Thus these fields are lower resolution that the ones we saw earlier.  They are at the same resolution as our `lowres_density` ICs.*\n"
   ]
  },
  {
   "cell_type": "markdown",
   "id": "b6a90906",
   "metadata": {},
   "source": [
    "To visualize better what Lagrangian PT is doing, let us remake the last (i.e. z=0) plot, but now overplotting the linear velocity vectors.  We will use the `quiver` and `meshgrid` functions from `matplotlib.pyplot`."
   ]
  },
  {
   "cell_type": "code",
   "execution_count": null,
   "id": "764c65e1",
   "metadata": {},
   "outputs": [],
   "source": [
    "X = np.arange(0, HII_DIM, 10)\n",
    "X, Y = np.meshgrid(X, X)\n",
    "ax = tools.plot_coeval_slice(LPT_fields[0].density.value*units.dimensionless_unscaled, \n",
    "                         BOX_LEN * units.Mpc, transform2slice = tools.coeval2slice_z(idx=0), \n",
    "                         title=\"$\\\\delta_m$\", cmap=\"viridis\", vmin=-5, vmax=5)\n",
    "#plt.imshow(LPT_fields[0].density.value[:,:,0].T, vmin=-5, vmax=5, origin=\"lower\") # plot 2D slice; to be replaced\n",
    "ax.quiver(X*BOX_LEN/HII_DIM, Y*BOX_LEN/HII_DIM, initial_conditions.lowres_vx.value[X,Y,0], initial_conditions.lowres_vy.value[X,Y,0], \n",
    "        color='r', width=0.006, headwidth=4, alpha=0.5),"
   ]
  },
  {
   "cell_type": "markdown",
   "id": "e7dfd8ef",
   "metadata": {},
   "source": [
    "*How are arrows pointing in general?*\n",
    "***"
   ]
  },
  {
   "cell_type": "markdown",
   "id": "e010cde6",
   "metadata": {},
   "source": [
    "<div class=\"alert alert-block alert-info\">\n",
    "FYI: The `PERTURB_FIELD` function actually allows us to use different perturbation theories to evolve the density field.  We can chose from Eularian linear evolution, first order LPT (i.e. the Zel'dovich Approximation), and second order LPT (2LPT).\n",
    "</br>\n",
    "\n",
    "<b>Physics Bonus:</b> Find the `perturb_field` function in the `src` directory of `21cmFAST` and see how Eularian PT and the ZA are implemented, comparing to our lecture notes.\n",
    "</div>"
   ]
  },
  {
   "cell_type": "markdown",
   "id": "ba518051",
   "metadata": {},
   "source": [
    "Now let us remake the plot of the power spectra and PDF but using our LPT fields."
   ]
  },
  {
   "cell_type": "code",
   "execution_count": null,
   "id": "639e8fca",
   "metadata": {},
   "outputs": [],
   "source": [
    "fig, ax = plt.subplots(1, 2, figsize=(16, 6))\n",
    "#loop over redshifts and use indexing to change colors\n",
    "for idx, z in enumerate(redshifts):\n",
    "   delta_x = LPT_fields[z].density.value*units.dimensionless_unscaled\n",
    "   ps1d, ps2d = tools.calculate_ps_coeval(delta_x, \n",
    "      BOX_LEN * units.Mpc, calc_2d=True, calc_1d=True, deltasq=True)\n",
    "   tools.plot_power_spectrum(ps1d, ax=ax[0], color=f\"C{idx}\",\n",
    "                             legend=z,logx=True, logy=True, ylabel='$\\\\Delta^2(k)$')\n",
    "   tools.plot_pdf(delta_x, ax=ax[1], hist_kwargs={'bins':100, 'color': f\"C{idx}\", \n",
    "                  \"histtype\": \"step\", \"range\":(-2, 2), \"density\":True})\n",
    "ax[0].set_title(\"Power Spectrum of $\\\\delta_m$\")\n",
    "ax[1].set_title(\"PDF of $\\\\delta_m$\")\n",
    "ax[1].legend([f\"z={z}\" for z in redshifts])\n",
    "ax[1].set_ylabel(\"PDF\")"
   ]
  },
  {
   "cell_type": "markdown",
   "id": "3030380a",
   "metadata": {},
   "source": [
    "*What do you see?  How does this compare with the Eularian linear evolution?*"
   ]
  },
  {
   "cell_type": "markdown",
   "id": "097d76fd",
   "metadata": {},
   "source": [
    "***\n",
    "<div class=\"alert alert-block alert-info\">\n",
    "<b>Movie Bonus:</b>\n",
    "You can make a movie of your Universe evolving with time!  Let's plot the 2D slices through the matter fields evolved with 2LPT, for logarithmic redshift evolution.  We will save the plots to a local directory as images and then use `OPENCV` to combine them into a movie."
   ]
  },
  {
   "cell_type": "code",
   "execution_count": null,
   "id": "36d86582",
   "metadata": {},
   "outputs": [],
   "source": [
    "# make a 'Frames' directory\n",
    "frames_folder = './Frames'\n",
    "video_name = 'matter_evolution_2LPT.avi'\n",
    "Path(frames_folder).mkdir(parents=True, exist_ok=True)\n",
    "os.system(\"rm \"+frames_folder+\"/*.*\"); # remove existing files\n",
    "os.system(\"rm \"+video_name); # remove existing files"
   ]
  },
  {
   "cell_type": "code",
   "execution_count": null,
   "id": "248ae444",
   "metadata": {},
   "outputs": [],
   "source": [
    "# loop over redshifts and make plots\n",
    "num_frames = 30\n",
    "for z in np.logspace(1.3, -0.5, num_frames):\n",
    "    perturbed_field = p21c.perturb_field(redshift=z, initial_conditions=initial_conditions, cache=cache, regenerate=False, write=True)\n",
    "    ax = tools.plot_coeval_slice(perturbed_field.density.value*units.dimensionless_unscaled, \n",
    "                         BOX_LEN * units.Mpc, transform2slice = tools.coeval2slice_z(idx=0), \n",
    "                         title=\"$\\\\delta_m$\", cmap=\"viridis\", vmin=-5, vmax=5)\n",
    "    ax.set_title(f\"$\\\\delta_m$ at z={z:.2f}\");\n",
    "    plt.savefig(f\"./Frames/matter_overdensity_z{z:06.2f}.png\");\n",
    "    plt.close();\n"
   ]
  },
  {
   "cell_type": "code",
   "execution_count": null,
   "id": "0d418bd4",
   "metadata": {},
   "outputs": [],
   "source": [
    "# make a movie from the frames\n",
    "images = [img for img in sorted(os.listdir(frames_folder))[::-1] if img.endswith(\".png\")]\n",
    "frame = cv2.imread(os.path.join(frames_folder, images[0]))\n",
    "height, width, layers = frame.shape\n",
    "\n",
    "fps=5\n",
    "video = cv2.VideoWriter(video_name, 0, fps, (width,height))\n",
    "for image in images:\n",
    "    video.write(cv2.imread(os.path.join(frames_folder, image)))\n",
    "\n",
    "video.release()"
   ]
  }
 ],
 "metadata": {
  "kernelspec": {
   "display_name": "21cmfast",
   "language": "python",
   "name": "python3"
  },
  "language_info": {
   "codemirror_mode": {
    "name": "ipython",
    "version": 3
   },
   "file_extension": ".py",
   "mimetype": "text/x-python",
   "name": "python",
   "nbconvert_exporter": "python",
   "pygments_lexer": "ipython3",
   "version": "3.13.2"
  }
 },
 "nbformat": 4,
 "nbformat_minor": 5
}
